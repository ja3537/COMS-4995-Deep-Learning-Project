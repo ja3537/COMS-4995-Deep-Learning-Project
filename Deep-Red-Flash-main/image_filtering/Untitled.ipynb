{
 "cells": [
  {
   "cell_type": "code",
   "execution_count": 1,
   "id": "5ee8a562",
   "metadata": {},
   "outputs": [],
   "source": [
    "import os\n",
    "import sys\n",
    "sys.path.insert(1, \"C:\\\\Users\\\\Michael\\\\Documents\\\\COMS-4995-Deep-Learning-Project\")\n",
    "from eval import get_metrics"
   ]
  },
  {
   "cell_type": "code",
   "execution_count": 2,
   "id": "9833b428",
   "metadata": {},
   "outputs": [],
   "source": [
    "list1 = []\n",
    "list2 = []\n",
    "for i in range(1305,1450):\n",
    "    list1.append(f\"C:\\\\Users\\\\Michael\\\\Documents\\\\COMS-4995-Deep-Learning-Project\\\\val1\\\\training_{i}_rgb.png\")\n",
    "    list2.append(f\"C:\\\\Users\\Michael\\\\Documents\\\\COMS-4995-Deep-Learning-Project\\\\Deep-Red-Flash-main\\\\image_filtering\\\\output_originalmodel_dim\\\\out_{i}.png\")"
   ]
  },
  {
   "cell_type": "code",
   "execution_count": 3,
   "id": "bf13c2f8",
   "metadata": {},
   "outputs": [],
   "source": [
    "psnr, ssim, vgg = get_metrics(list1, list2)"
   ]
  },
  {
   "cell_type": "code",
   "execution_count": 4,
   "id": "943b5bb2",
   "metadata": {},
   "outputs": [
    {
     "name": "stdout",
     "output_type": "stream",
     "text": [
      "psnr: 7.538391809230378, ssim: 0.8085653504485079, vgg: 7.097004413604736\n"
     ]
    }
   ],
   "source": [
    "print(f\"psnr: {psnr}, ssim: {ssim}, vgg: {vgg}\")"
   ]
  },
  {
   "cell_type": "code",
   "execution_count": null,
   "id": "ecf5ccbe",
   "metadata": {},
   "outputs": [],
   "source": []
  }
 ],
 "metadata": {
  "kernelspec": {
   "display_name": "pytorch",
   "language": "python",
   "name": "pytorch"
  },
  "language_info": {
   "codemirror_mode": {
    "name": "ipython",
    "version": 3
   },
   "file_extension": ".py",
   "mimetype": "text/x-python",
   "name": "python",
   "nbconvert_exporter": "python",
   "pygments_lexer": "ipython3",
   "version": "3.9.11"
  }
 },
 "nbformat": 4,
 "nbformat_minor": 5
}
